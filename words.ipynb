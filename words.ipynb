{
 "cells": [
  {
   "cell_type": "markdown",
   "metadata": {},
   "source": [
    "# Skriv tekst her"
   ]
  },
  {
   "cell_type": "markdown",
   "metadata": {},
   "source": [
    "## Basic statistics"
   ]
  },
  {
   "cell_type": "markdown",
   "metadata": {},
   "source": [
    "The NUFORC UFO Sightings dataset, sourced from the National UFO Reporting Center and hosted on Kaggle, comprises over 80,000 individual reports of unidentified flying object (UFO) sightings. These records span more than a century, offering a foundation for both quantitative and qualitative analyses of UFO sightings.\n",
    "\n",
    "Key statistical features in the dataset include: Total Number of Records: Over 80,000 reported sightings. Temporal Coverage: Sighting dates range from the early 1900s to recent years, enabling longitudinal trend analysis. Geographic Details: Includes city, state, and country, which support geographic and regional analysis. Date and Time: Timestamps for each report allow for temporal pattern detection, including hour-of-day and seasonal trends. Duration of Sighting: Provides the reported length of time each sighting lasted, offering insight into event characteristics. Shape Descriptions: Classifies the observed object into shapes such as circle, triangle, disk, or light, which aids in categorizing sightings. Narrative Summaries: Text fields containing eyewitness descriptions, useful for qualitative and natural language processing tasks."
   ]
  },
  {
   "cell_type": "markdown",
   "metadata": {},
   "source": []
  }
 ],
 "metadata": {
  "kernelspec": {
   "display_name": "Python 3",
   "language": "python",
   "name": "python3"
  },
  "language_info": {
   "name": "python",
   "version": "3.13.2"
  }
 },
 "nbformat": 4,
 "nbformat_minor": 2
}
