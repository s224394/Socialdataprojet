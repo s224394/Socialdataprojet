{
 "cells": [
  {
   "cell_type": "code",
   "execution_count": 1,
   "id": "ccc10ced",
   "metadata": {},
   "outputs": [
    {
     "name": "stderr",
     "output_type": "stream",
     "text": [
      "C:\\Users\\mich0\\AppData\\Local\\Temp\\ipykernel_19168\\2456746146.py:2: DtypeWarning: Columns (5,9) have mixed types. Specify dtype option on import or set low_memory=False.\n",
      "  data = pd.read_csv(\"data/complete.csv\", on_bad_lines='skip')\n"
     ]
    }
   ],
   "source": [
    "import pandas as pd\n",
    "data = pd.read_csv(\"data/complete.csv\", on_bad_lines='skip')\n",
    "data['datetime'] = pd.to_datetime(data['datetime'], errors='coerce')\n",
    "df=data[data[\"country\"]==\"us\"].sort_index(level=\"datetime\")\n",
    "df = df.dropna(subset=['datetime'])\n",
    "df = df.sort_values(by='datetime').reset_index(drop=True)\n",
    "df=df.dropna()"
   ]
  },
  {
   "cell_type": "code",
   "execution_count": 4,
   "id": "6202d709",
   "metadata": {},
   "outputs": [
    {
     "data": {
      "text/html": [
       "    <style>\n",
       "        .bk-notebook-logo {\n",
       "            display: block;\n",
       "            width: 20px;\n",
       "            height: 20px;\n",
       "            background-image: url(data:image/png;base64,iVBORw0KGgoAAAANSUhEUgAAABQAAAAUCAYAAACNiR0NAAAABHNCSVQICAgIfAhkiAAAAAlwSFlzAAALEgAACxIB0t1+/AAAABx0RVh0U29mdHdhcmUAQWRvYmUgRmlyZXdvcmtzIENTNui8sowAAAOkSURBVDiNjZRtaJVlGMd/1/08zzln5zjP1LWcU9N0NkN8m2CYjpgQYQXqSs0I84OLIC0hkEKoPtiH3gmKoiJDU7QpLgoLjLIQCpEsNJ1vqUOdO7ppbuec5+V+rj4ctwzd8IIbbi6u+8f1539dt3A78eXC7QizUF7gyV1fD1Yqg4JWz84yffhm0qkFqBogB9rM8tZdtwVsPUhWhGcFJngGeWrPzHm5oaMmkfEg1usvLFyc8jLRqDOMru7AyC8saQr7GG7f5fvDeH7Ej8CM66nIF+8yngt6HWaKh7k49Soy9nXurCi1o3qUbS3zWfrYeQDTB/Qj6kX6Ybhw4B+bOYoLKCC9H3Nu/leUTZ1JdRWkkn2ldcCamzrcf47KKXdAJllSlxAOkRgyHsGC/zRday5Qld9DyoM4/q/rUoy/CXh3jzOu3bHUVZeU+DEn8FInkPBFlu3+nW3Nw0mk6vCDiWg8CeJaxEwuHS3+z5RgY+YBR6V1Z1nxSOfoaPa4LASWxxdNp+VWTk7+4vzaou8v8PN+xo+KY2xsw6une2frhw05CTYOmQvsEhjhWjn0bmXPjpE1+kplmmkP3suftwTubK9Vq22qKmrBhpY4jvd5afdRA3wGjFAgcnTK2s4hY0/GPNIb0nErGMCRxWOOX64Z8RAC4oCXdklmEvcL8o0BfkNK4lUg9HTl+oPlQxdNo3Mg4Nv175e/1LDGzZen30MEjRUtmXSfiTVu1kK8W4txyV6BMKlbgk3lMwYCiusNy9fVfvvwMxv8Ynl6vxoByANLTWplvuj/nF9m2+PDtt1eiHPBr1oIfhCChQMBw6Aw0UulqTKZdfVvfG7VcfIqLG9bcldL/+pdWTLxLUy8Qq38heUIjh4XlzZxzQm19lLFlr8vdQ97rjZVOLf8nclzckbcD4wxXMidpX30sFd37Fv/GtwwhzhxGVAprjbg0gCAEeIgwCZyTV2Z1REEW8O4py0wsjeloKoMr6iCY6dP92H6Vw/oTyICIthibxjm/DfN9lVz8IqtqKYLUXfoKVMVQVVJOElGjrnnUt9T9wbgp8AyYKaGlqingHZU/uG2NTZSVqwHQTWkx9hxjkpWDaCg6Ckj5qebgBVbT3V3NNXMSiWSDdGV3hrtzla7J+duwPOToIg42ChPQOQjspnSlp1V+Gjdged7+8UN5CRAV7a5EdFNwCjEaBR27b3W890TE7g24NAP/mMDXRWrGoFPQI9ls/MWO2dWFAar/xcOIImbbpA3zgAAAABJRU5ErkJggg==);\n",
       "        }\n",
       "    </style>\n",
       "    <div>\n",
       "        <a href=\"https://bokeh.org\" target=\"_blank\" class=\"bk-notebook-logo\"></a>\n",
       "        <span id=\"c7c82b5d-4fb0-454c-b864-9dd364906d85\">Loading BokehJS ...</span>\n",
       "    </div>\n"
      ]
     },
     "metadata": {},
     "output_type": "display_data"
    },
    {
     "data": {
      "application/javascript": "'use strict';\n(function(root) {\n  function now() {\n    return new Date();\n  }\n\n  const force = true;\n\n  if (typeof root._bokeh_onload_callbacks === \"undefined\" || force === true) {\n    root._bokeh_onload_callbacks = [];\n    root._bokeh_is_loading = undefined;\n  }\n\nconst JS_MIME_TYPE = 'application/javascript';\n  const HTML_MIME_TYPE = 'text/html';\n  const EXEC_MIME_TYPE = 'application/vnd.bokehjs_exec.v0+json';\n  const CLASS_NAME = 'output_bokeh rendered_html';\n\n  /**\n   * Render data to the DOM node\n   */\n  function render(props, node) {\n    const script = document.createElement(\"script\");\n    node.appendChild(script);\n  }\n\n  /**\n   * Handle when an output is cleared or removed\n   */\n  function handleClearOutput(event, handle) {\n    function drop(id) {\n      const view = Bokeh.index.get_by_id(id)\n      if (view != null) {\n        view.model.document.clear()\n        Bokeh.index.delete(view)\n      }\n    }\n\n    const cell = handle.cell;\n\n    const id = cell.output_area._bokeh_element_id;\n    const server_id = cell.output_area._bokeh_server_id;\n\n    // Clean up Bokeh references\n    if (id != null) {\n      drop(id)\n    }\n\n    if (server_id !== undefined) {\n      // Clean up Bokeh references\n      const cmd_clean = \"from bokeh.io.state import curstate; print(curstate().uuid_to_server['\" + server_id + \"'].get_sessions()[0].document.roots[0]._id)\";\n      cell.notebook.kernel.execute(cmd_clean, {\n        iopub: {\n          output: function(msg) {\n            const id = msg.content.text.trim()\n            drop(id)\n          }\n        }\n      });\n      // Destroy server and session\n      const cmd_destroy = \"import bokeh.io.notebook as ion; ion.destroy_server('\" + server_id + \"')\";\n      cell.notebook.kernel.execute(cmd_destroy);\n    }\n  }\n\n  /**\n   * Handle when a new output is added\n   */\n  function handleAddOutput(event, handle) {\n    const output_area = handle.output_area;\n    const output = handle.output;\n\n    // limit handleAddOutput to display_data with EXEC_MIME_TYPE content only\n    if ((output.output_type != \"display_data\") || (!Object.prototype.hasOwnProperty.call(output.data, EXEC_MIME_TYPE))) {\n      return\n    }\n\n    const toinsert = output_area.element.find(\".\" + CLASS_NAME.split(' ')[0]);\n\n    if (output.metadata[EXEC_MIME_TYPE][\"id\"] !== undefined) {\n      toinsert[toinsert.length - 1].firstChild.textContent = output.data[JS_MIME_TYPE];\n      // store reference to embed id on output_area\n      output_area._bokeh_element_id = output.metadata[EXEC_MIME_TYPE][\"id\"];\n    }\n    if (output.metadata[EXEC_MIME_TYPE][\"server_id\"] !== undefined) {\n      const bk_div = document.createElement(\"div\");\n      bk_div.innerHTML = output.data[HTML_MIME_TYPE];\n      const script_attrs = bk_div.children[0].attributes;\n      for (let i = 0; i < script_attrs.length; i++) {\n        toinsert[toinsert.length - 1].firstChild.setAttribute(script_attrs[i].name, script_attrs[i].value);\n        toinsert[toinsert.length - 1].firstChild.textContent = bk_div.children[0].textContent\n      }\n      // store reference to server id on output_area\n      output_area._bokeh_server_id = output.metadata[EXEC_MIME_TYPE][\"server_id\"];\n    }\n  }\n\n  function register_renderer(events, OutputArea) {\n\n    function append_mime(data, metadata, element) {\n      // create a DOM node to render to\n      const toinsert = this.create_output_subarea(\n        metadata,\n        CLASS_NAME,\n        EXEC_MIME_TYPE\n      );\n      this.keyboard_manager.register_events(toinsert);\n      // Render to node\n      const props = {data: data, metadata: metadata[EXEC_MIME_TYPE]};\n      render(props, toinsert[toinsert.length - 1]);\n      element.append(toinsert);\n      return toinsert\n    }\n\n    /* Handle when an output is cleared or removed */\n    events.on('clear_output.CodeCell', handleClearOutput);\n    events.on('delete.Cell', handleClearOutput);\n\n    /* Handle when a new output is added */\n    events.on('output_added.OutputArea', handleAddOutput);\n\n    /**\n     * Register the mime type and append_mime function with output_area\n     */\n    OutputArea.prototype.register_mime_type(EXEC_MIME_TYPE, append_mime, {\n      /* Is output safe? */\n      safe: true,\n      /* Index of renderer in `output_area.display_order` */\n      index: 0\n    });\n  }\n\n  // register the mime type if in Jupyter Notebook environment and previously unregistered\n  if (root.Jupyter !== undefined) {\n    const events = require('base/js/events');\n    const OutputArea = require('notebook/js/outputarea').OutputArea;\n\n    if (OutputArea.prototype.mime_types().indexOf(EXEC_MIME_TYPE) == -1) {\n      register_renderer(events, OutputArea);\n    }\n  }\n  if (typeof (root._bokeh_timeout) === \"undefined\" || force === true) {\n    root._bokeh_timeout = Date.now() + 5000;\n    root._bokeh_failed_load = false;\n  }\n\n  const NB_LOAD_WARNING = {'data': {'text/html':\n     \"<div style='background-color: #fdd'>\\n\"+\n     \"<p>\\n\"+\n     \"BokehJS does not appear to have successfully loaded. If loading BokehJS from CDN, this \\n\"+\n     \"may be due to a slow or bad network connection. Possible fixes:\\n\"+\n     \"</p>\\n\"+\n     \"<ul>\\n\"+\n     \"<li>re-rerun `output_notebook()` to attempt to load from CDN again, or</li>\\n\"+\n     \"<li>use INLINE resources instead, as so:</li>\\n\"+\n     \"</ul>\\n\"+\n     \"<code>\\n\"+\n     \"from bokeh.resources import INLINE\\n\"+\n     \"output_notebook(resources=INLINE)\\n\"+\n     \"</code>\\n\"+\n     \"</div>\"}};\n\n  function display_loaded(error = null) {\n    const el = document.getElementById(\"c7c82b5d-4fb0-454c-b864-9dd364906d85\");\n    if (el != null) {\n      const html = (() => {\n        if (typeof root.Bokeh === \"undefined\") {\n          if (error == null) {\n            return \"BokehJS is loading ...\";\n          } else {\n            return \"BokehJS failed to load.\";\n          }\n        } else {\n          const prefix = `BokehJS ${root.Bokeh.version}`;\n          if (error == null) {\n            return `${prefix} successfully loaded.`;\n          } else {\n            return `${prefix} <b>encountered errors</b> while loading and may not function as expected.`;\n          }\n        }\n      })();\n      el.innerHTML = html;\n\n      if (error != null) {\n        const wrapper = document.createElement(\"div\");\n        wrapper.style.overflow = \"auto\";\n        wrapper.style.height = \"5em\";\n        wrapper.style.resize = \"vertical\";\n        const content = document.createElement(\"div\");\n        content.style.fontFamily = \"monospace\";\n        content.style.whiteSpace = \"pre-wrap\";\n        content.style.backgroundColor = \"rgb(255, 221, 221)\";\n        content.textContent = error.stack ?? error.toString();\n        wrapper.append(content);\n        el.append(wrapper);\n      }\n    } else if (Date.now() < root._bokeh_timeout) {\n      setTimeout(() => display_loaded(error), 100);\n    }\n  }\n\n  function run_callbacks() {\n    try {\n      root._bokeh_onload_callbacks.forEach(function(callback) {\n        if (callback != null)\n          callback();\n      });\n    } finally {\n      delete root._bokeh_onload_callbacks\n    }\n    console.debug(\"Bokeh: all callbacks have finished\");\n  }\n\n  function load_libs(css_urls, js_urls, callback) {\n    if (css_urls == null) css_urls = [];\n    if (js_urls == null) js_urls = [];\n\n    root._bokeh_onload_callbacks.push(callback);\n    if (root._bokeh_is_loading > 0) {\n      console.debug(\"Bokeh: BokehJS is being loaded, scheduling callback at\", now());\n      return null;\n    }\n    if (js_urls == null || js_urls.length === 0) {\n      run_callbacks();\n      return null;\n    }\n    console.debug(\"Bokeh: BokehJS not loaded, scheduling load and callback at\", now());\n    root._bokeh_is_loading = css_urls.length + js_urls.length;\n\n    function on_load() {\n      root._bokeh_is_loading--;\n      if (root._bokeh_is_loading === 0) {\n        console.debug(\"Bokeh: all BokehJS libraries/stylesheets loaded\");\n        run_callbacks()\n      }\n    }\n\n    function on_error(url) {\n      console.error(\"failed to load \" + url);\n    }\n\n    for (let i = 0; i < css_urls.length; i++) {\n      const url = css_urls[i];\n      const element = document.createElement(\"link\");\n      element.onload = on_load;\n      element.onerror = on_error.bind(null, url);\n      element.rel = \"stylesheet\";\n      element.type = \"text/css\";\n      element.href = url;\n      console.debug(\"Bokeh: injecting link tag for BokehJS stylesheet: \", url);\n      document.body.appendChild(element);\n    }\n\n    for (let i = 0; i < js_urls.length; i++) {\n      const url = js_urls[i];\n      const element = document.createElement('script');\n      element.onload = on_load;\n      element.onerror = on_error.bind(null, url);\n      element.async = false;\n      element.src = url;\n      console.debug(\"Bokeh: injecting script tag for BokehJS library: \", url);\n      document.head.appendChild(element);\n    }\n  };\n\n  function inject_raw_css(css) {\n    const element = document.createElement(\"style\");\n    element.appendChild(document.createTextNode(css));\n    document.body.appendChild(element);\n  }\n\n  const js_urls = [\"https://cdn.bokeh.org/bokeh/release/bokeh-3.6.3.min.js\", \"https://cdn.bokeh.org/bokeh/release/bokeh-gl-3.6.3.min.js\", \"https://cdn.bokeh.org/bokeh/release/bokeh-widgets-3.6.3.min.js\", \"https://cdn.bokeh.org/bokeh/release/bokeh-tables-3.6.3.min.js\", \"https://cdn.bokeh.org/bokeh/release/bokeh-mathjax-3.6.3.min.js\"];\n  const css_urls = [];\n\n  const inline_js = [    function(Bokeh) {\n      Bokeh.set_log_level(\"info\");\n    },\nfunction(Bokeh) {\n    }\n  ];\n\n  function run_inline_js() {\n    if (root.Bokeh !== undefined || force === true) {\n      try {\n            for (let i = 0; i < inline_js.length; i++) {\n      inline_js[i].call(root, root.Bokeh);\n    }\n\n      } catch (error) {display_loaded(error);throw error;\n      }if (force === true) {\n        display_loaded();\n      }} else if (Date.now() < root._bokeh_timeout) {\n      setTimeout(run_inline_js, 100);\n    } else if (!root._bokeh_failed_load) {\n      console.log(\"Bokeh: BokehJS failed to load within specified timeout.\");\n      root._bokeh_failed_load = true;\n    } else if (force !== true) {\n      const cell = $(document.getElementById(\"c7c82b5d-4fb0-454c-b864-9dd364906d85\")).parents('.cell').data().cell;\n      cell.output_area.append_execute_result(NB_LOAD_WARNING)\n    }\n  }\n\n  if (root._bokeh_is_loading === 0) {\n    console.debug(\"Bokeh: BokehJS loaded, going straight to plotting\");\n    run_inline_js();\n  } else {\n    load_libs(css_urls, js_urls, function() {\n      console.debug(\"Bokeh: BokehJS plotting callback run at\", now());\n      run_inline_js();\n    });\n  }\n}(window));",
      "application/vnd.bokehjs_load.v0+json": ""
     },
     "metadata": {},
     "output_type": "display_data"
    },
    {
     "name": "stderr",
     "output_type": "stream",
     "text": [
      "C:\\Users\\mich0\\AppData\\Local\\Temp\\ipykernel_19168\\3631616895.py:10: DtypeWarning: Columns (5,9) have mixed types. Specify dtype option on import or set low_memory=False.\n",
      "  data = pd.read_csv(\"data/complete.csv\", on_bad_lines='skip')\n",
      "BokehDeprecationWarning: 'circle() method with size value' was deprecated in Bokeh 3.4.0 and will be removed, use 'scatter(size=...) instead' instead.\n"
     ]
    },
    {
     "data": {
      "text/html": [
       "\n",
       "  <div id=\"f8cae9ce-d9c6-4777-a617-502cdf4efdc8\" data-root-id=\"p1109\" style=\"display: contents;\"></div>\n"
      ]
     },
     "metadata": {},
     "output_type": "display_data"
    },
    {
     "data": {
      "application/javascript": "(function(root) {\n  function embed_document(root) {\n  const docs_json = {\"d2df8383-65ff-4e34-845f-ba1fe3bc26ff\":{\"version\":\"3.6.3\",\"title\":\"Bokeh Application\",\"roots\":[{\"type\":\"object\",\"name\":\"Figure\",\"id\":\"p1109\",\"attributes\":{\"width\":1000,\"height\":500,\"x_range\":{\"type\":\"object\",\"name\":\"Range1d\",\"id\":\"p1119\",\"attributes\":{\"start\":1909,\"end\":2015}},\"y_range\":{\"type\":\"object\",\"name\":\"DataRange1d\",\"id\":\"p1111\"},\"x_scale\":{\"type\":\"object\",\"name\":\"LinearScale\",\"id\":\"p1120\"},\"y_scale\":{\"type\":\"object\",\"name\":\"LinearScale\",\"id\":\"p1121\"},\"title\":{\"type\":\"object\",\"name\":\"Title\",\"id\":\"p1112\",\"attributes\":{\"text\":\"U.S. UFO Sightings with Major Alien Media Releases\",\"text_color\":\"#eeeeee\",\"text_font_size\":\"16pt\",\"align\":\"center\"}},\"renderers\":[{\"type\":\"object\",\"name\":\"GlyphRenderer\",\"id\":\"p1138\",\"attributes\":{\"data_source\":{\"type\":\"object\",\"name\":\"ColumnDataSource\",\"id\":\"p1103\",\"attributes\":{\"selected\":{\"type\":\"object\",\"name\":\"Selection\",\"id\":\"p1104\",\"attributes\":{\"indices\":[],\"line_indices\":[]}},\"selection_policy\":{\"type\":\"object\",\"name\":\"UnionRenderers\",\"id\":\"p1105\"},\"data\":{\"type\":\"map\",\"entries\":[[\"year\",[1910,1920,1925,1929,1930,1931,1934,1936,1937,1939,1941,1942,1943,1944,1945,1946,1947,1948,1949,1950,1951,1952,1953,1954,1955,1956,1957,1958,1959,1960,1961,1962,1963,1964,1965,1966,1967,1968,1969,1970,1971,1972,1973,1974,1975,1976,1977,1978,1979,1980,1981,1982,1983,1984,1985,1986,1987,1988,1989,1990,1991,1992,1993,1994,1995,1996,1997,1998,1999,2000,2001,2002,2003,2004,2005,2006,2007,2008,2009,2010,2011,2012,2013,2014]],[\"count\",[2,1,1,1,1,2,1,2,1,3,1,3,1,3,7,7,32,8,16,21,14,40,27,39,26,37,65,42,46,52,41,56,67,82,173,171,153,177,131,113,96,126,190,226,251,229,211,262,200,207,147,148,127,149,180,158,188,195,204,201,189,190,239,344,1131,718,1063,1488,2389,2343,2681,2646,3197,3481,3414,3096,3705,4265,3893,3801,4631,6700,6420,2111]]]}}},\"view\":{\"type\":\"object\",\"name\":\"CDSView\",\"id\":\"p1139\",\"attributes\":{\"filter\":{\"type\":\"object\",\"name\":\"AllIndices\",\"id\":\"p1140\"}}},\"glyph\":{\"type\":\"object\",\"name\":\"VBar\",\"id\":\"p1135\",\"attributes\":{\"x\":{\"type\":\"field\",\"field\":\"year\"},\"width\":{\"type\":\"value\",\"value\":0.8},\"top\":{\"type\":\"field\",\"field\":\"count\"},\"line_color\":{\"type\":\"value\",\"value\":null},\"fill_color\":{\"type\":\"value\",\"value\":\"#00ff99\"},\"hatch_color\":{\"type\":\"value\",\"value\":\"#00ff99\"}}},\"nonselection_glyph\":{\"type\":\"object\",\"name\":\"VBar\",\"id\":\"p1136\",\"attributes\":{\"x\":{\"type\":\"field\",\"field\":\"year\"},\"width\":{\"type\":\"value\",\"value\":0.8},\"top\":{\"type\":\"field\",\"field\":\"count\"},\"line_color\":{\"type\":\"value\",\"value\":null},\"line_alpha\":{\"type\":\"value\",\"value\":0.1},\"fill_color\":{\"type\":\"value\",\"value\":\"#00ff99\"},\"fill_alpha\":{\"type\":\"value\",\"value\":0.1},\"hatch_color\":{\"type\":\"value\",\"value\":\"#00ff99\"},\"hatch_alpha\":{\"type\":\"value\",\"value\":0.1}}},\"muted_glyph\":{\"type\":\"object\",\"name\":\"VBar\",\"id\":\"p1137\",\"attributes\":{\"x\":{\"type\":\"field\",\"field\":\"year\"},\"width\":{\"type\":\"value\",\"value\":0.8},\"top\":{\"type\":\"field\",\"field\":\"count\"},\"line_color\":{\"type\":\"value\",\"value\":null},\"line_alpha\":{\"type\":\"value\",\"value\":0.2},\"fill_color\":{\"type\":\"value\",\"value\":\"#00ff99\"},\"fill_alpha\":{\"type\":\"value\",\"value\":0.2},\"hatch_color\":{\"type\":\"value\",\"value\":\"#00ff99\"},\"hatch_alpha\":{\"type\":\"value\",\"value\":0.2}}}}},{\"type\":\"object\",\"name\":\"GlyphRenderer\",\"id\":\"p1149\",\"attributes\":{\"data_source\":{\"type\":\"object\",\"name\":\"ColumnDataSource\",\"id\":\"p1106\",\"attributes\":{\"selected\":{\"type\":\"object\",\"name\":\"Selection\",\"id\":\"p1107\",\"attributes\":{\"indices\":[],\"line_indices\":[]}},\"selection_policy\":{\"type\":\"object\",\"name\":\"UnionRenderers\",\"id\":\"p1108\"},\"data\":{\"type\":\"map\",\"entries\":[[\"year\",[1951,1977,1979,1982,1986,1993,1996,1998,2002,2009,2014]],[\"count\",[14,211,200,148,158,239,718,1488,2646,3893,2111]],[\"title\",[\"The Day the Earth Stood Still\",\"Close Encounters\",\"Alien\",\"E.T.\",\"Aliens\",\"The X-Files (TV)\",\"Independence Day\",\"X-Files: The Movie\",\"Signs\",\"District 9\",\"Edge of Tomorrow\"]],[\"type\",[\"movie\",\"movie\",\"movie\",\"movie\",\"movie\",\"tv\",\"movie\",\"tv\",\"movie\",\"movie\",\"movie\"]]]}}},\"view\":{\"type\":\"object\",\"name\":\"CDSView\",\"id\":\"p1150\",\"attributes\":{\"filter\":{\"type\":\"object\",\"name\":\"AllIndices\",\"id\":\"p1151\"}}},\"glyph\":{\"type\":\"object\",\"name\":\"Scatter\",\"id\":\"p1146\",\"attributes\":{\"x\":{\"type\":\"field\",\"field\":\"year\"},\"y\":{\"type\":\"field\",\"field\":\"count\"},\"size\":{\"type\":\"value\",\"value\":10},\"line_color\":{\"type\":\"value\",\"value\":\"#ff3366\"},\"line_alpha\":{\"type\":\"value\",\"value\":0.9},\"fill_color\":{\"type\":\"value\",\"value\":\"#ff3366\"},\"fill_alpha\":{\"type\":\"value\",\"value\":0.9},\"hatch_color\":{\"type\":\"value\",\"value\":\"#ff3366\"},\"hatch_alpha\":{\"type\":\"value\",\"value\":0.9}}},\"nonselection_glyph\":{\"type\":\"object\",\"name\":\"Scatter\",\"id\":\"p1147\",\"attributes\":{\"x\":{\"type\":\"field\",\"field\":\"year\"},\"y\":{\"type\":\"field\",\"field\":\"count\"},\"size\":{\"type\":\"value\",\"value\":10},\"line_color\":{\"type\":\"value\",\"value\":\"#ff3366\"},\"line_alpha\":{\"type\":\"value\",\"value\":0.1},\"fill_color\":{\"type\":\"value\",\"value\":\"#ff3366\"},\"fill_alpha\":{\"type\":\"value\",\"value\":0.1},\"hatch_color\":{\"type\":\"value\",\"value\":\"#ff3366\"},\"hatch_alpha\":{\"type\":\"value\",\"value\":0.1}}},\"muted_glyph\":{\"type\":\"object\",\"name\":\"Scatter\",\"id\":\"p1148\",\"attributes\":{\"x\":{\"type\":\"field\",\"field\":\"year\"},\"y\":{\"type\":\"field\",\"field\":\"count\"},\"size\":{\"type\":\"value\",\"value\":10},\"line_color\":{\"type\":\"value\",\"value\":\"#ff3366\"},\"line_alpha\":{\"type\":\"value\",\"value\":0.2},\"fill_color\":{\"type\":\"value\",\"value\":\"#ff3366\"},\"fill_alpha\":{\"type\":\"value\",\"value\":0.2},\"hatch_color\":{\"type\":\"value\",\"value\":\"#ff3366\"},\"hatch_alpha\":{\"type\":\"value\",\"value\":0.2}}}}}],\"toolbar\":{\"type\":\"object\",\"name\":\"Toolbar\",\"id\":\"p1118\",\"attributes\":{\"tools\":[{\"type\":\"object\",\"name\":\"HoverTool\",\"id\":\"p1153\",\"attributes\":{\"renderers\":[{\"id\":\"p1149\"}],\"tooltips\":[[\"Media\",\"@title\"],[\"Year\",\"@year\"],[\"Sightings\",\"@count\"]]}}]}},\"toolbar_location\":null,\"left\":[{\"type\":\"object\",\"name\":\"LinearAxis\",\"id\":\"p1127\",\"attributes\":{\"ticker\":{\"type\":\"object\",\"name\":\"BasicTicker\",\"id\":\"p1128\",\"attributes\":{\"mantissas\":[1,2,5]}},\"formatter\":{\"type\":\"object\",\"name\":\"BasicTickFormatter\",\"id\":\"p1129\"},\"major_label_policy\":{\"type\":\"object\",\"name\":\"AllLabels\",\"id\":\"p1130\"},\"major_label_text_color\":\"#cccccc\",\"axis_line_color\":\"#333333\"}}],\"below\":[{\"type\":\"object\",\"name\":\"LinearAxis\",\"id\":\"p1122\",\"attributes\":{\"ticker\":{\"type\":\"object\",\"name\":\"BasicTicker\",\"id\":\"p1123\",\"attributes\":{\"mantissas\":[1,2,5]}},\"formatter\":{\"type\":\"object\",\"name\":\"BasicTickFormatter\",\"id\":\"p1124\"},\"major_label_policy\":{\"type\":\"object\",\"name\":\"AllLabels\",\"id\":\"p1125\"},\"major_label_text_color\":\"#cccccc\",\"axis_line_color\":\"#333333\"}}],\"center\":[{\"type\":\"object\",\"name\":\"Grid\",\"id\":\"p1126\",\"attributes\":{\"axis\":{\"id\":\"p1122\"},\"grid_line_color\":null}},{\"type\":\"object\",\"name\":\"Grid\",\"id\":\"p1131\",\"attributes\":{\"dimension\":1,\"axis\":{\"id\":\"p1127\"},\"grid_line_color\":\"#222244\"}},{\"type\":\"object\",\"name\":\"Legend\",\"id\":\"p1141\",\"attributes\":{\"location\":\"top_left\",\"background_fill_alpha\":0.0,\"label_text_color\":\"#cccccc\",\"items\":[{\"type\":\"object\",\"name\":\"LegendItem\",\"id\":\"p1142\",\"attributes\":{\"label\":{\"type\":\"value\",\"value\":\"Sightings\"},\"renderers\":[{\"id\":\"p1138\"}]}},{\"type\":\"object\",\"name\":\"LegendItem\",\"id\":\"p1152\",\"attributes\":{\"label\":{\"type\":\"value\",\"value\":\"Media Event\"},\"renderers\":[{\"id\":\"p1149\"}]}}]}}],\"background_fill_color\":\"#0f0f1f\",\"border_fill_color\":\"#0f0f1f\"}}]}};\n  const render_items = [{\"docid\":\"d2df8383-65ff-4e34-845f-ba1fe3bc26ff\",\"roots\":{\"p1109\":\"f8cae9ce-d9c6-4777-a617-502cdf4efdc8\"},\"root_ids\":[\"p1109\"]}];\n  void root.Bokeh.embed.embed_items_notebook(docs_json, render_items);\n  }\n  if (root.Bokeh !== undefined) {\n    embed_document(root);\n  } else {\n    let attempts = 0;\n    const timer = setInterval(function(root) {\n      if (root.Bokeh !== undefined) {\n        clearInterval(timer);\n        embed_document(root);\n      } else {\n        attempts++;\n        if (attempts > 100) {\n          clearInterval(timer);\n          console.log(\"Bokeh: ERROR: Unable to run BokehJS code because BokehJS library is missing\");\n        }\n      }\n    }, 10, root)\n  }\n})(window);",
      "application/vnd.bokehjs_exec.v0+json": ""
     },
     "metadata": {
      "application/vnd.bokehjs_exec.v0+json": {
       "id": "p1109"
      }
     },
     "output_type": "display_data"
    }
   ],
   "source": [
    "import pandas as pd\n",
    "from bokeh.plotting import figure, show\n",
    "from bokeh.models import ColumnDataSource, HoverTool, Span\n",
    "from bokeh.io import output_notebook\n",
    "\n",
    "# Tell Bokeh to render inline in the notebook\n",
    "output_notebook()\n",
    "\n",
    "# === Load & Clean Data ===\n",
    "data = pd.read_csv(\"data/complete.csv\", on_bad_lines='skip')\n",
    "data['datetime'] = pd.to_datetime(data['datetime'], errors='coerce')\n",
    "df = data[data[\"country\"] == \"us\"].dropna(subset=['datetime'])\n",
    "df['year'] = df['datetime'].dt.year\n",
    "year_counts = df['year'].value_counts().sort_index()\n",
    "\n",
    "sightings_source = ColumnDataSource(data=dict(\n",
    "    year=year_counts.index.tolist(),\n",
    "    count=year_counts.values.tolist()\n",
    "))\n",
    "\n",
    "# === Annotated Media Events ===\n",
    "alien_media = {\n",
    "    1951: (\"The Day the Earth Stood Still\", \"movie\"),\n",
    "    1977: (\"Close Encounters\", \"movie\"),\n",
    "    1979: (\"Alien\", \"movie\"),\n",
    "    1982: (\"E.T.\", \"movie\"),\n",
    "    1986: (\"Aliens\", \"movie\"),\n",
    "    1993: (\"The X-Files (TV)\", \"tv\"),\n",
    "    1996: (\"Independence Day\", \"movie\"),\n",
    "    1998: (\"X-Files: The Movie\", \"tv\"),\n",
    "    2002: (\"Signs\", \"movie\"),\n",
    "    2009: (\"District 9\", \"movie\"),\n",
    "    2014: (\"Edge of Tomorrow\", \"movie\")\n",
    "}\n",
    "\n",
    "media_data = {\n",
    "    'year': [], 'count': [], 'title': [], 'type': []\n",
    "}\n",
    "for year, (title, typ) in alien_media.items():\n",
    "    if year in year_counts.index:\n",
    "        media_data['year'].append(year)\n",
    "        media_data['count'].append(year_counts[year])\n",
    "        media_data['title'].append(title)\n",
    "        media_data['type'].append(typ)\n",
    "\n",
    "media_source = ColumnDataSource(media_data)\n",
    "\n",
    "# === Create Bokeh Plot ===\n",
    "p = figure(\n",
    "    width=1000, height=500,\n",
    "    background_fill_color=\"#0f0f1f\", border_fill_color=\"#0f0f1f\",\n",
    "    title=\"U.S. UFO Sightings with Major Alien Media Releases\",\n",
    "    x_axis_label=None, y_axis_label=None,\n",
    "    x_range=(min(year_counts.index)-1, max(year_counts.index)+1),\n",
    "    tools=\"\", toolbar_location=None\n",
    ")\n",
    "\n",
    "p.vbar(x='year', top='count', width=0.8, source=sightings_source,\n",
    "       color=\"#00ff99\", line_color=None, legend_label=\"Sightings\")\n",
    "\n",
    "# Neon markers for media events\n",
    "media_renderer = p.circle(x='year', y='count', size=10,\n",
    "                          color=\"#ff3366\", alpha=0.9, source=media_source,\n",
    "                          legend_label=\"Media Event\")\n",
    "\n",
    "# Tooltip for media events\n",
    "p.add_tools(HoverTool(\n",
    "    renderers=[media_renderer],\n",
    "    tooltips=[(\"Media\", \"@title\"), (\"Year\", \"@year\"), (\"Sightings\", \"@count\")],\n",
    "    mode='mouse'\n",
    "))\n",
    "\n",
    "# Styling polish\n",
    "p.xaxis.major_label_text_color = \"#cccccc\"\n",
    "p.yaxis.major_label_text_color = \"#cccccc\"\n",
    "p.xaxis.axis_line_color = \"#333333\"\n",
    "p.yaxis.axis_line_color = \"#333333\"\n",
    "p.xgrid.grid_line_color = None\n",
    "p.ygrid.grid_line_color = \"#222244\"\n",
    "p.title.text_color = \"#eeeeee\"\n",
    "p.title.text_font_size = \"16pt\"\n",
    "p.title.align = \"center\"\n",
    "p.legend.label_text_color = \"#cccccc\"\n",
    "p.legend.background_fill_alpha = 0.0\n",
    "p.legend.location = \"top_left\"\n",
    "\n",
    "# This will now render inline\n",
    "show(p)\n"
   ]
  },
  {
   "cell_type": "code",
   "execution_count": 5,
   "id": "e9d4a348",
   "metadata": {},
   "outputs": [
    {
     "data": {
      "text/html": [
       "    <style>\n",
       "        .bk-notebook-logo {\n",
       "            display: block;\n",
       "            width: 20px;\n",
       "            height: 20px;\n",
       "            background-image: url(data:image/png;base64,iVBORw0KGgoAAAANSUhEUgAAABQAAAAUCAYAAACNiR0NAAAABHNCSVQICAgIfAhkiAAAAAlwSFlzAAALEgAACxIB0t1+/AAAABx0RVh0U29mdHdhcmUAQWRvYmUgRmlyZXdvcmtzIENTNui8sowAAAOkSURBVDiNjZRtaJVlGMd/1/08zzln5zjP1LWcU9N0NkN8m2CYjpgQYQXqSs0I84OLIC0hkEKoPtiH3gmKoiJDU7QpLgoLjLIQCpEsNJ1vqUOdO7ppbuec5+V+rj4ctwzd8IIbbi6u+8f1539dt3A78eXC7QizUF7gyV1fD1Yqg4JWz84yffhm0qkFqBogB9rM8tZdtwVsPUhWhGcFJngGeWrPzHm5oaMmkfEg1usvLFyc8jLRqDOMru7AyC8saQr7GG7f5fvDeH7Ej8CM66nIF+8yngt6HWaKh7k49Soy9nXurCi1o3qUbS3zWfrYeQDTB/Qj6kX6Ybhw4B+bOYoLKCC9H3Nu/leUTZ1JdRWkkn2ldcCamzrcf47KKXdAJllSlxAOkRgyHsGC/zRday5Qld9DyoM4/q/rUoy/CXh3jzOu3bHUVZeU+DEn8FInkPBFlu3+nW3Nw0mk6vCDiWg8CeJaxEwuHS3+z5RgY+YBR6V1Z1nxSOfoaPa4LASWxxdNp+VWTk7+4vzaou8v8PN+xo+KY2xsw6une2frhw05CTYOmQvsEhjhWjn0bmXPjpE1+kplmmkP3suftwTubK9Vq22qKmrBhpY4jvd5afdRA3wGjFAgcnTK2s4hY0/GPNIb0nErGMCRxWOOX64Z8RAC4oCXdklmEvcL8o0BfkNK4lUg9HTl+oPlQxdNo3Mg4Nv175e/1LDGzZen30MEjRUtmXSfiTVu1kK8W4txyV6BMKlbgk3lMwYCiusNy9fVfvvwMxv8Ynl6vxoByANLTWplvuj/nF9m2+PDtt1eiHPBr1oIfhCChQMBw6Aw0UulqTKZdfVvfG7VcfIqLG9bcldL/+pdWTLxLUy8Qq38heUIjh4XlzZxzQm19lLFlr8vdQ97rjZVOLf8nclzckbcD4wxXMidpX30sFd37Fv/GtwwhzhxGVAprjbg0gCAEeIgwCZyTV2Z1REEW8O4py0wsjeloKoMr6iCY6dP92H6Vw/oTyICIthibxjm/DfN9lVz8IqtqKYLUXfoKVMVQVVJOElGjrnnUt9T9wbgp8AyYKaGlqingHZU/uG2NTZSVqwHQTWkx9hxjkpWDaCg6Ckj5qebgBVbT3V3NNXMSiWSDdGV3hrtzla7J+duwPOToIg42ChPQOQjspnSlp1V+Gjdged7+8UN5CRAV7a5EdFNwCjEaBR27b3W890TE7g24NAP/mMDXRWrGoFPQI9ls/MWO2dWFAar/xcOIImbbpA3zgAAAABJRU5ErkJggg==);\n",
       "        }\n",
       "    </style>\n",
       "    <div>\n",
       "        <a href=\"https://bokeh.org\" target=\"_blank\" class=\"bk-notebook-logo\"></a>\n",
       "        <span id=\"b4c8ef7f-12b7-40a6-af5d-e9304c759fbf\">Loading BokehJS ...</span>\n",
       "    </div>\n"
      ]
     },
     "metadata": {},
     "output_type": "display_data"
    },
    {
     "data": {
      "application/javascript": "'use strict';\n(function(root) {\n  function now() {\n    return new Date();\n  }\n\n  const force = true;\n\n  if (typeof root._bokeh_onload_callbacks === \"undefined\" || force === true) {\n    root._bokeh_onload_callbacks = [];\n    root._bokeh_is_loading = undefined;\n  }\n\nconst JS_MIME_TYPE = 'application/javascript';\n  const HTML_MIME_TYPE = 'text/html';\n  const EXEC_MIME_TYPE = 'application/vnd.bokehjs_exec.v0+json';\n  const CLASS_NAME = 'output_bokeh rendered_html';\n\n  /**\n   * Render data to the DOM node\n   */\n  function render(props, node) {\n    const script = document.createElement(\"script\");\n    node.appendChild(script);\n  }\n\n  /**\n   * Handle when an output is cleared or removed\n   */\n  function handleClearOutput(event, handle) {\n    function drop(id) {\n      const view = Bokeh.index.get_by_id(id)\n      if (view != null) {\n        view.model.document.clear()\n        Bokeh.index.delete(view)\n      }\n    }\n\n    const cell = handle.cell;\n\n    const id = cell.output_area._bokeh_element_id;\n    const server_id = cell.output_area._bokeh_server_id;\n\n    // Clean up Bokeh references\n    if (id != null) {\n      drop(id)\n    }\n\n    if (server_id !== undefined) {\n      // Clean up Bokeh references\n      const cmd_clean = \"from bokeh.io.state import curstate; print(curstate().uuid_to_server['\" + server_id + \"'].get_sessions()[0].document.roots[0]._id)\";\n      cell.notebook.kernel.execute(cmd_clean, {\n        iopub: {\n          output: function(msg) {\n            const id = msg.content.text.trim()\n            drop(id)\n          }\n        }\n      });\n      // Destroy server and session\n      const cmd_destroy = \"import bokeh.io.notebook as ion; ion.destroy_server('\" + server_id + \"')\";\n      cell.notebook.kernel.execute(cmd_destroy);\n    }\n  }\n\n  /**\n   * Handle when a new output is added\n   */\n  function handleAddOutput(event, handle) {\n    const output_area = handle.output_area;\n    const output = handle.output;\n\n    // limit handleAddOutput to display_data with EXEC_MIME_TYPE content only\n    if ((output.output_type != \"display_data\") || (!Object.prototype.hasOwnProperty.call(output.data, EXEC_MIME_TYPE))) {\n      return\n    }\n\n    const toinsert = output_area.element.find(\".\" + CLASS_NAME.split(' ')[0]);\n\n    if (output.metadata[EXEC_MIME_TYPE][\"id\"] !== undefined) {\n      toinsert[toinsert.length - 1].firstChild.textContent = output.data[JS_MIME_TYPE];\n      // store reference to embed id on output_area\n      output_area._bokeh_element_id = output.metadata[EXEC_MIME_TYPE][\"id\"];\n    }\n    if (output.metadata[EXEC_MIME_TYPE][\"server_id\"] !== undefined) {\n      const bk_div = document.createElement(\"div\");\n      bk_div.innerHTML = output.data[HTML_MIME_TYPE];\n      const script_attrs = bk_div.children[0].attributes;\n      for (let i = 0; i < script_attrs.length; i++) {\n        toinsert[toinsert.length - 1].firstChild.setAttribute(script_attrs[i].name, script_attrs[i].value);\n        toinsert[toinsert.length - 1].firstChild.textContent = bk_div.children[0].textContent\n      }\n      // store reference to server id on output_area\n      output_area._bokeh_server_id = output.metadata[EXEC_MIME_TYPE][\"server_id\"];\n    }\n  }\n\n  function register_renderer(events, OutputArea) {\n\n    function append_mime(data, metadata, element) {\n      // create a DOM node to render to\n      const toinsert = this.create_output_subarea(\n        metadata,\n        CLASS_NAME,\n        EXEC_MIME_TYPE\n      );\n      this.keyboard_manager.register_events(toinsert);\n      // Render to node\n      const props = {data: data, metadata: metadata[EXEC_MIME_TYPE]};\n      render(props, toinsert[toinsert.length - 1]);\n      element.append(toinsert);\n      return toinsert\n    }\n\n    /* Handle when an output is cleared or removed */\n    events.on('clear_output.CodeCell', handleClearOutput);\n    events.on('delete.Cell', handleClearOutput);\n\n    /* Handle when a new output is added */\n    events.on('output_added.OutputArea', handleAddOutput);\n\n    /**\n     * Register the mime type and append_mime function with output_area\n     */\n    OutputArea.prototype.register_mime_type(EXEC_MIME_TYPE, append_mime, {\n      /* Is output safe? */\n      safe: true,\n      /* Index of renderer in `output_area.display_order` */\n      index: 0\n    });\n  }\n\n  // register the mime type if in Jupyter Notebook environment and previously unregistered\n  if (root.Jupyter !== undefined) {\n    const events = require('base/js/events');\n    const OutputArea = require('notebook/js/outputarea').OutputArea;\n\n    if (OutputArea.prototype.mime_types().indexOf(EXEC_MIME_TYPE) == -1) {\n      register_renderer(events, OutputArea);\n    }\n  }\n  if (typeof (root._bokeh_timeout) === \"undefined\" || force === true) {\n    root._bokeh_timeout = Date.now() + 5000;\n    root._bokeh_failed_load = false;\n  }\n\n  const NB_LOAD_WARNING = {'data': {'text/html':\n     \"<div style='background-color: #fdd'>\\n\"+\n     \"<p>\\n\"+\n     \"BokehJS does not appear to have successfully loaded. If loading BokehJS from CDN, this \\n\"+\n     \"may be due to a slow or bad network connection. Possible fixes:\\n\"+\n     \"</p>\\n\"+\n     \"<ul>\\n\"+\n     \"<li>re-rerun `output_notebook()` to attempt to load from CDN again, or</li>\\n\"+\n     \"<li>use INLINE resources instead, as so:</li>\\n\"+\n     \"</ul>\\n\"+\n     \"<code>\\n\"+\n     \"from bokeh.resources import INLINE\\n\"+\n     \"output_notebook(resources=INLINE)\\n\"+\n     \"</code>\\n\"+\n     \"</div>\"}};\n\n  function display_loaded(error = null) {\n    const el = document.getElementById(\"b4c8ef7f-12b7-40a6-af5d-e9304c759fbf\");\n    if (el != null) {\n      const html = (() => {\n        if (typeof root.Bokeh === \"undefined\") {\n          if (error == null) {\n            return \"BokehJS is loading ...\";\n          } else {\n            return \"BokehJS failed to load.\";\n          }\n        } else {\n          const prefix = `BokehJS ${root.Bokeh.version}`;\n          if (error == null) {\n            return `${prefix} successfully loaded.`;\n          } else {\n            return `${prefix} <b>encountered errors</b> while loading and may not function as expected.`;\n          }\n        }\n      })();\n      el.innerHTML = html;\n\n      if (error != null) {\n        const wrapper = document.createElement(\"div\");\n        wrapper.style.overflow = \"auto\";\n        wrapper.style.height = \"5em\";\n        wrapper.style.resize = \"vertical\";\n        const content = document.createElement(\"div\");\n        content.style.fontFamily = \"monospace\";\n        content.style.whiteSpace = \"pre-wrap\";\n        content.style.backgroundColor = \"rgb(255, 221, 221)\";\n        content.textContent = error.stack ?? error.toString();\n        wrapper.append(content);\n        el.append(wrapper);\n      }\n    } else if (Date.now() < root._bokeh_timeout) {\n      setTimeout(() => display_loaded(error), 100);\n    }\n  }\n\n  function run_callbacks() {\n    try {\n      root._bokeh_onload_callbacks.forEach(function(callback) {\n        if (callback != null)\n          callback();\n      });\n    } finally {\n      delete root._bokeh_onload_callbacks\n    }\n    console.debug(\"Bokeh: all callbacks have finished\");\n  }\n\n  function load_libs(css_urls, js_urls, callback) {\n    if (css_urls == null) css_urls = [];\n    if (js_urls == null) js_urls = [];\n\n    root._bokeh_onload_callbacks.push(callback);\n    if (root._bokeh_is_loading > 0) {\n      console.debug(\"Bokeh: BokehJS is being loaded, scheduling callback at\", now());\n      return null;\n    }\n    if (js_urls == null || js_urls.length === 0) {\n      run_callbacks();\n      return null;\n    }\n    console.debug(\"Bokeh: BokehJS not loaded, scheduling load and callback at\", now());\n    root._bokeh_is_loading = css_urls.length + js_urls.length;\n\n    function on_load() {\n      root._bokeh_is_loading--;\n      if (root._bokeh_is_loading === 0) {\n        console.debug(\"Bokeh: all BokehJS libraries/stylesheets loaded\");\n        run_callbacks()\n      }\n    }\n\n    function on_error(url) {\n      console.error(\"failed to load \" + url);\n    }\n\n    for (let i = 0; i < css_urls.length; i++) {\n      const url = css_urls[i];\n      const element = document.createElement(\"link\");\n      element.onload = on_load;\n      element.onerror = on_error.bind(null, url);\n      element.rel = \"stylesheet\";\n      element.type = \"text/css\";\n      element.href = url;\n      console.debug(\"Bokeh: injecting link tag for BokehJS stylesheet: \", url);\n      document.body.appendChild(element);\n    }\n\n    for (let i = 0; i < js_urls.length; i++) {\n      const url = js_urls[i];\n      const element = document.createElement('script');\n      element.onload = on_load;\n      element.onerror = on_error.bind(null, url);\n      element.async = false;\n      element.src = url;\n      console.debug(\"Bokeh: injecting script tag for BokehJS library: \", url);\n      document.head.appendChild(element);\n    }\n  };\n\n  function inject_raw_css(css) {\n    const element = document.createElement(\"style\");\n    element.appendChild(document.createTextNode(css));\n    document.body.appendChild(element);\n  }\n\n  const js_urls = [\"https://cdn.bokeh.org/bokeh/release/bokeh-3.6.3.min.js\", \"https://cdn.bokeh.org/bokeh/release/bokeh-gl-3.6.3.min.js\", \"https://cdn.bokeh.org/bokeh/release/bokeh-widgets-3.6.3.min.js\", \"https://cdn.bokeh.org/bokeh/release/bokeh-tables-3.6.3.min.js\", \"https://cdn.bokeh.org/bokeh/release/bokeh-mathjax-3.6.3.min.js\"];\n  const css_urls = [];\n\n  const inline_js = [    function(Bokeh) {\n      Bokeh.set_log_level(\"info\");\n    },\nfunction(Bokeh) {\n    }\n  ];\n\n  function run_inline_js() {\n    if (root.Bokeh !== undefined || force === true) {\n      try {\n            for (let i = 0; i < inline_js.length; i++) {\n      inline_js[i].call(root, root.Bokeh);\n    }\n\n      } catch (error) {display_loaded(error);throw error;\n      }if (force === true) {\n        display_loaded();\n      }} else if (Date.now() < root._bokeh_timeout) {\n      setTimeout(run_inline_js, 100);\n    } else if (!root._bokeh_failed_load) {\n      console.log(\"Bokeh: BokehJS failed to load within specified timeout.\");\n      root._bokeh_failed_load = true;\n    } else if (force !== true) {\n      const cell = $(document.getElementById(\"b4c8ef7f-12b7-40a6-af5d-e9304c759fbf\")).parents('.cell').data().cell;\n      cell.output_area.append_execute_result(NB_LOAD_WARNING)\n    }\n  }\n\n  if (root._bokeh_is_loading === 0) {\n    console.debug(\"Bokeh: BokehJS loaded, going straight to plotting\");\n    run_inline_js();\n  } else {\n    load_libs(css_urls, js_urls, function() {\n      console.debug(\"Bokeh: BokehJS plotting callback run at\", now());\n      run_inline_js();\n    });\n  }\n}(window));",
      "application/vnd.bokehjs_load.v0+json": ""
     },
     "metadata": {},
     "output_type": "display_data"
    },
    {
     "name": "stderr",
     "output_type": "stream",
     "text": [
      "C:\\Users\\mich0\\AppData\\Local\\Temp\\ipykernel_19168\\3367029534.py:11: DtypeWarning: Columns (5,9) have mixed types. Specify dtype option on import or set low_memory=False.\n",
      "  data = pd.read_csv(\"data/complete.csv\", on_bad_lines='skip')\n",
      "BokehDeprecationWarning: 'circle() method with size value' was deprecated in Bokeh 3.4.0 and will be removed, use 'scatter(size=...) instead' instead.\n"
     ]
    },
    {
     "data": {
      "text/html": [
       "\n",
       "  <div id=\"e3f3dccb-881d-4d51-8e70-9984ed617eb8\" data-root-id=\"p1160\" style=\"display: contents;\"></div>\n"
      ]
     },
     "metadata": {},
     "output_type": "display_data"
    },
    {
     "data": {
      "application/javascript": "(function(root) {\n  function embed_document(root) {\n  const docs_json = {\"96cb0241-ee74-456e-89a3-f3a9b3085b6f\":{\"version\":\"3.6.3\",\"title\":\"Bokeh Application\",\"roots\":[{\"type\":\"object\",\"name\":\"Figure\",\"id\":\"p1160\",\"attributes\":{\"width\":1000,\"height\":500,\"x_range\":{\"type\":\"object\",\"name\":\"Range1d\",\"id\":\"p1170\",\"attributes\":{\"start\":1960,\"end\":2017}},\"y_range\":{\"type\":\"object\",\"name\":\"Range1d\",\"id\":\"p1171\",\"attributes\":{\"end\":7604.95}},\"x_scale\":{\"type\":\"object\",\"name\":\"LinearScale\",\"id\":\"p1172\"},\"y_scale\":{\"type\":\"object\",\"name\":\"LinearScale\",\"id\":\"p1173\"},\"title\":{\"type\":\"object\",\"name\":\"Title\",\"id\":\"p1163\",\"attributes\":{\"text\":\"U.S. UFO Shape Distribution Over Time (All Shapes)\",\"text_color\":\"#eeeeee\",\"text_font_size\":\"16pt\"}},\"renderers\":[{\"type\":\"object\",\"name\":\"GlyphRenderer\",\"id\":\"p1202\",\"attributes\":{\"name\":\"uncommon shapes\",\"data_source\":{\"type\":\"object\",\"name\":\"ColumnDataSource\",\"id\":\"p1154\",\"attributes\":{\"selected\":{\"type\":\"object\",\"name\":\"Selection\",\"id\":\"p1155\",\"attributes\":{\"indices\":[],\"line_indices\":[]}},\"selection_policy\":{\"type\":\"object\",\"name\":\"UnionRenderers\",\"id\":\"p1156\"},\"data\":{\"type\":\"map\",\"entries\":[[\"year\",[1960,1961,1962,1963,1964,1965,1966,1967,1968,1969,1970,1971,1972,1973,1974,1975,1976,1977,1978,1979,1980,1981,1982,1983,1984,1985,1986,1987,1988,1989,1990,1991,1992,1993,1994,1995,1996,1997,1998,1999,2000,2001,2002,2003,2004,2005,2006,2007,2008,2009,2010,2011,2012,2013,2014]],[\"uncommon shapes\",{\"type\":\"ndarray\",\"array\":{\"type\":\"bytes\",\"data\":\"JQAAABkAAAAlAAAALQAAAC4AAABvAAAAdAAAAFgAAABsAAAAVQAAAEwAAAA5AAAAQgAAAHkAAACGAAAAkwAAAIQAAAB+AAAAoQAAAG0AAAB+AAAAVQAAAFYAAABNAAAARwAAAGkAAABYAAAAbgAAAGEAAAB0AAAAZwAAAFsAAABgAAAAegAAAKAAAAC8AAAA3QAAANwBAACKAgAACwQAAPMDAAC+BAAArAQAALkFAAAJBgAAvgUAAE8FAAASBgAAXgcAACkGAAAbBgAA5QYAAJ0JAAAQCQAAKgMAAA==\"},\"shape\":[55],\"dtype\":\"int32\",\"order\":\"little\"}],[\"light\",{\"type\":\"ndarray\",\"array\":{\"type\":\"bytes\",\"data\":\"AgAAAAQAAAAGAAAABgAAAAwAAAAVAAAAEQAAABgAAAASAAAADQAAAA4AAAAMAAAAFQAAABMAAAAYAAAAIAAAACAAAAAVAAAAHQAAABoAAAAfAAAAEAAAABUAAAAGAAAADgAAABAAAAANAAAAFgAAABUAAAARAAAAIAAAAB0AAAAaAAAAIAAAAC0AAABLAAAAXAAAAOUAAAAVAQAAxQEAAOUBAABIAgAAGAIAAIYCAAAFAwAABAMAAHgCAABIAwAAmQMAAOYDAABLAwAACAQAAHwFAABsBQAA0wEAAA==\"},\"shape\":[55],\"dtype\":\"int32\",\"order\":\"little\"}],[\"triangle\",{\"type\":\"ndarray\",\"array\":{\"type\":\"bytes\",\"data\":\"AQAAAAIAAAACAAAABQAAAAIAAAAFAAAACgAAAAcAAAAJAAAABQAAAAIAAAAGAAAACAAAAA0AAAASAAAAFQAAABAAAAAdAAAAHAAAABkAAAATAAAADwAAABEAAAAVAAAAFgAAABoAAAAcAAAAFwAAABgAAAAkAAAAGgAAACIAAAAbAAAAMwAAAEEAAABNAAAAUwAAAKoAAACpAAAA8gAAAAABAAApAQAAEwEAAEIBAAB7AQAAeAEAADEBAACYAQAAuwEAAG8BAABwAQAAzgEAACUCAAD4AQAAxgAAAA==\"},\"shape\":[55],\"dtype\":\"int32\",\"order\":\"little\"}],[\"circle\",{\"type\":\"ndarray\",\"array\":{\"type\":\"bytes\",\"data\":\"BwAAAAYAAAAEAAAABAAAAAsAAAALAAAADgAAABAAAAAXAAAADAAAAAYAAAAOAAAAEAAAABIAAAAbAAAAHAAAABQAAAAUAAAAEAAAABEAAAAKAAAACAAAAAoAAAAIAAAAFgAAABEAAAAJAAAACQAAABYAAAAJAAAACgAAABMAAAAPAAAAEwAAABkAAAAhAAAAGAAAADsAAABqAAAAuQAAAMwAAADUAAAA2gAAAB8BAAAMAQAAHwEAACABAABuAQAAXwEAAHsBAABzAQAA4wEAAC0DAABSAwAABAEAAA==\"},\"shape\":[55],\"dtype\":\"int32\",\"order\":\"little\"}],[\"fireball\",{\"type\":\"ndarray\",\"array\":{\"type\":\"bytes\",\"data\":\"AQAAAAAAAAAAAAAAAAAAAAQAAAAJAAAAAQAAAAMAAAAGAAAAAgAAAAIAAAAAAAAAAwAAAAQAAAAGAAAACAAAAAYAAAACAAAACAAAAAYAAAAEAAAABgAAAAQAAAAEAAAABwAAAAIAAAAFAAAABgAAAAQAAAAEAAAACQAAAAIAAAAHAAAAAwAAAA0AAAAUAAAADwAAACYAAADLAAAA+gAAALsAAAClAAAAmwAAAKQAAACqAAAAtQAAAMMAAADBAAAA6QAAAMIAAAA1AQAA8wEAAKkDAABnAwAAuAAAAA==\"},\"shape\":[55],\"dtype\":\"int32\",\"order\":\"little\"}],[\"unknown\",{\"type\":\"ndarray\",\"array\":{\"type\":\"bytes\",\"data\":\"AgAAAAMAAAAGAAAABwAAAAUAAAAKAAAACQAAAA4AAAAKAAAACwAAAAoAAAAFAAAACgAAAAkAAAAMAAAADQAAABAAAAAJAAAAEAAAAAwAAAAPAAAADgAAAAgAAAAJAAAACgAAAAsAAAALAAAADAAAABcAAAASAAAAEgAAAAsAAAARAAAACQAAABcAAAAoAAAAFQAAADAAAABIAAAAmgAAAKEAAACpAAAA0gAAAPsAAAAlAQAAGAEAABABAAAwAQAAcAEAADIBAAAjAQAASQEAAMEBAACTAQAAmwAAAA==\"},\"shape\":[55],\"dtype\":\"int32\",\"order\":\"little\"}]]}}},\"view\":{\"type\":\"object\",\"name\":\"CDSView\",\"id\":\"p1203\",\"attributes\":{\"filter\":{\"type\":\"object\",\"name\":\"AllIndices\",\"id\":\"p1204\"}}},\"glyph\":{\"type\":\"object\",\"name\":\"VArea\",\"id\":\"p1199\",\"attributes\":{\"x\":{\"type\":\"field\",\"field\":\"year\"},\"y1\":{\"type\":\"expr\",\"expr\":{\"type\":\"object\",\"name\":\"Stack\",\"id\":\"p1184\",\"attributes\":{\"fields\":[]}}},\"y2\":{\"type\":\"expr\",\"expr\":{\"type\":\"object\",\"name\":\"Stack\",\"id\":\"p1185\",\"attributes\":{\"fields\":[\"uncommon shapes\"]}}},\"fill_color\":\"#1f77b4\",\"hatch_color\":{\"type\":\"value\",\"value\":\"#1f77b4\"}}},\"nonselection_glyph\":{\"type\":\"object\",\"name\":\"VArea\",\"id\":\"p1200\",\"attributes\":{\"x\":{\"type\":\"field\",\"field\":\"year\"},\"y1\":{\"type\":\"expr\",\"expr\":{\"id\":\"p1184\"}},\"y2\":{\"type\":\"expr\",\"expr\":{\"id\":\"p1185\"}},\"fill_color\":\"#1f77b4\",\"fill_alpha\":0.1,\"hatch_color\":{\"type\":\"value\",\"value\":\"#1f77b4\"},\"hatch_alpha\":{\"type\":\"value\",\"value\":0.1}}},\"muted_glyph\":{\"type\":\"object\",\"name\":\"VArea\",\"id\":\"p1201\",\"attributes\":{\"x\":{\"type\":\"field\",\"field\":\"year\"},\"y1\":{\"type\":\"expr\",\"expr\":{\"id\":\"p1184\"}},\"y2\":{\"type\":\"expr\",\"expr\":{\"id\":\"p1185\"}},\"fill_color\":\"#1f77b4\",\"fill_alpha\":0.2,\"hatch_color\":{\"type\":\"value\",\"value\":\"#1f77b4\"},\"hatch_alpha\":{\"type\":\"value\",\"value\":0.2}}}}},{\"type\":\"object\",\"name\":\"GlyphRenderer\",\"id\":\"p1213\",\"attributes\":{\"name\":\"light\",\"data_source\":{\"id\":\"p1154\"},\"view\":{\"type\":\"object\",\"name\":\"CDSView\",\"id\":\"p1214\",\"attributes\":{\"filter\":{\"type\":\"object\",\"name\":\"AllIndices\",\"id\":\"p1215\"}}},\"glyph\":{\"type\":\"object\",\"name\":\"VArea\",\"id\":\"p1210\",\"attributes\":{\"x\":{\"type\":\"field\",\"field\":\"year\"},\"y1\":{\"type\":\"expr\",\"expr\":{\"type\":\"object\",\"name\":\"Stack\",\"id\":\"p1186\",\"attributes\":{\"fields\":[\"uncommon shapes\"]}}},\"y2\":{\"type\":\"expr\",\"expr\":{\"type\":\"object\",\"name\":\"Stack\",\"id\":\"p1187\",\"attributes\":{\"fields\":[\"uncommon shapes\",\"light\"]}}},\"fill_color\":\"#aec7e8\",\"hatch_color\":{\"type\":\"value\",\"value\":\"#aec7e8\"}}},\"nonselection_glyph\":{\"type\":\"object\",\"name\":\"VArea\",\"id\":\"p1211\",\"attributes\":{\"x\":{\"type\":\"field\",\"field\":\"year\"},\"y1\":{\"type\":\"expr\",\"expr\":{\"id\":\"p1186\"}},\"y2\":{\"type\":\"expr\",\"expr\":{\"id\":\"p1187\"}},\"fill_color\":\"#aec7e8\",\"fill_alpha\":0.1,\"hatch_color\":{\"type\":\"value\",\"value\":\"#aec7e8\"},\"hatch_alpha\":{\"type\":\"value\",\"value\":0.1}}},\"muted_glyph\":{\"type\":\"object\",\"name\":\"VArea\",\"id\":\"p1212\",\"attributes\":{\"x\":{\"type\":\"field\",\"field\":\"year\"},\"y1\":{\"type\":\"expr\",\"expr\":{\"id\":\"p1186\"}},\"y2\":{\"type\":\"expr\",\"expr\":{\"id\":\"p1187\"}},\"fill_color\":\"#aec7e8\",\"fill_alpha\":0.2,\"hatch_color\":{\"type\":\"value\",\"value\":\"#aec7e8\"},\"hatch_alpha\":{\"type\":\"value\",\"value\":0.2}}}}},{\"type\":\"object\",\"name\":\"GlyphRenderer\",\"id\":\"p1223\",\"attributes\":{\"name\":\"triangle\",\"data_source\":{\"id\":\"p1154\"},\"view\":{\"type\":\"object\",\"name\":\"CDSView\",\"id\":\"p1224\",\"attributes\":{\"filter\":{\"type\":\"object\",\"name\":\"AllIndices\",\"id\":\"p1225\"}}},\"glyph\":{\"type\":\"object\",\"name\":\"VArea\",\"id\":\"p1220\",\"attributes\":{\"x\":{\"type\":\"field\",\"field\":\"year\"},\"y1\":{\"type\":\"expr\",\"expr\":{\"type\":\"object\",\"name\":\"Stack\",\"id\":\"p1188\",\"attributes\":{\"fields\":[\"uncommon shapes\",\"light\"]}}},\"y2\":{\"type\":\"expr\",\"expr\":{\"type\":\"object\",\"name\":\"Stack\",\"id\":\"p1189\",\"attributes\":{\"fields\":[\"uncommon shapes\",\"light\",\"triangle\"]}}},\"fill_color\":\"#ff7f0e\",\"hatch_color\":{\"type\":\"value\",\"value\":\"#ff7f0e\"}}},\"nonselection_glyph\":{\"type\":\"object\",\"name\":\"VArea\",\"id\":\"p1221\",\"attributes\":{\"x\":{\"type\":\"field\",\"field\":\"year\"},\"y1\":{\"type\":\"expr\",\"expr\":{\"id\":\"p1188\"}},\"y2\":{\"type\":\"expr\",\"expr\":{\"id\":\"p1189\"}},\"fill_color\":\"#ff7f0e\",\"fill_alpha\":0.1,\"hatch_color\":{\"type\":\"value\",\"value\":\"#ff7f0e\"},\"hatch_alpha\":{\"type\":\"value\",\"value\":0.1}}},\"muted_glyph\":{\"type\":\"object\",\"name\":\"VArea\",\"id\":\"p1222\",\"attributes\":{\"x\":{\"type\":\"field\",\"field\":\"year\"},\"y1\":{\"type\":\"expr\",\"expr\":{\"id\":\"p1188\"}},\"y2\":{\"type\":\"expr\",\"expr\":{\"id\":\"p1189\"}},\"fill_color\":\"#ff7f0e\",\"fill_alpha\":0.2,\"hatch_color\":{\"type\":\"value\",\"value\":\"#ff7f0e\"},\"hatch_alpha\":{\"type\":\"value\",\"value\":0.2}}}}},{\"type\":\"object\",\"name\":\"GlyphRenderer\",\"id\":\"p1233\",\"attributes\":{\"name\":\"circle\",\"data_source\":{\"id\":\"p1154\"},\"view\":{\"type\":\"object\",\"name\":\"CDSView\",\"id\":\"p1234\",\"attributes\":{\"filter\":{\"type\":\"object\",\"name\":\"AllIndices\",\"id\":\"p1235\"}}},\"glyph\":{\"type\":\"object\",\"name\":\"VArea\",\"id\":\"p1230\",\"attributes\":{\"x\":{\"type\":\"field\",\"field\":\"year\"},\"y1\":{\"type\":\"expr\",\"expr\":{\"type\":\"object\",\"name\":\"Stack\",\"id\":\"p1190\",\"attributes\":{\"fields\":[\"uncommon shapes\",\"light\",\"triangle\"]}}},\"y2\":{\"type\":\"expr\",\"expr\":{\"type\":\"object\",\"name\":\"Stack\",\"id\":\"p1191\",\"attributes\":{\"fields\":[\"uncommon shapes\",\"light\",\"triangle\",\"circle\"]}}},\"fill_color\":\"#ffbb78\",\"hatch_color\":{\"type\":\"value\",\"value\":\"#ffbb78\"}}},\"nonselection_glyph\":{\"type\":\"object\",\"name\":\"VArea\",\"id\":\"p1231\",\"attributes\":{\"x\":{\"type\":\"field\",\"field\":\"year\"},\"y1\":{\"type\":\"expr\",\"expr\":{\"id\":\"p1190\"}},\"y2\":{\"type\":\"expr\",\"expr\":{\"id\":\"p1191\"}},\"fill_color\":\"#ffbb78\",\"fill_alpha\":0.1,\"hatch_color\":{\"type\":\"value\",\"value\":\"#ffbb78\"},\"hatch_alpha\":{\"type\":\"value\",\"value\":0.1}}},\"muted_glyph\":{\"type\":\"object\",\"name\":\"VArea\",\"id\":\"p1232\",\"attributes\":{\"x\":{\"type\":\"field\",\"field\":\"year\"},\"y1\":{\"type\":\"expr\",\"expr\":{\"id\":\"p1190\"}},\"y2\":{\"type\":\"expr\",\"expr\":{\"id\":\"p1191\"}},\"fill_color\":\"#ffbb78\",\"fill_alpha\":0.2,\"hatch_color\":{\"type\":\"value\",\"value\":\"#ffbb78\"},\"hatch_alpha\":{\"type\":\"value\",\"value\":0.2}}}}},{\"type\":\"object\",\"name\":\"GlyphRenderer\",\"id\":\"p1243\",\"attributes\":{\"name\":\"fireball\",\"data_source\":{\"id\":\"p1154\"},\"view\":{\"type\":\"object\",\"name\":\"CDSView\",\"id\":\"p1244\",\"attributes\":{\"filter\":{\"type\":\"object\",\"name\":\"AllIndices\",\"id\":\"p1245\"}}},\"glyph\":{\"type\":\"object\",\"name\":\"VArea\",\"id\":\"p1240\",\"attributes\":{\"x\":{\"type\":\"field\",\"field\":\"year\"},\"y1\":{\"type\":\"expr\",\"expr\":{\"type\":\"object\",\"name\":\"Stack\",\"id\":\"p1192\",\"attributes\":{\"fields\":[\"uncommon shapes\",\"light\",\"triangle\",\"circle\"]}}},\"y2\":{\"type\":\"expr\",\"expr\":{\"type\":\"object\",\"name\":\"Stack\",\"id\":\"p1193\",\"attributes\":{\"fields\":[\"uncommon shapes\",\"light\",\"triangle\",\"circle\",\"fireball\"]}}},\"fill_color\":\"#2ca02c\",\"hatch_color\":{\"type\":\"value\",\"value\":\"#2ca02c\"}}},\"nonselection_glyph\":{\"type\":\"object\",\"name\":\"VArea\",\"id\":\"p1241\",\"attributes\":{\"x\":{\"type\":\"field\",\"field\":\"year\"},\"y1\":{\"type\":\"expr\",\"expr\":{\"id\":\"p1192\"}},\"y2\":{\"type\":\"expr\",\"expr\":{\"id\":\"p1193\"}},\"fill_color\":\"#2ca02c\",\"fill_alpha\":0.1,\"hatch_color\":{\"type\":\"value\",\"value\":\"#2ca02c\"},\"hatch_alpha\":{\"type\":\"value\",\"value\":0.1}}},\"muted_glyph\":{\"type\":\"object\",\"name\":\"VArea\",\"id\":\"p1242\",\"attributes\":{\"x\":{\"type\":\"field\",\"field\":\"year\"},\"y1\":{\"type\":\"expr\",\"expr\":{\"id\":\"p1192\"}},\"y2\":{\"type\":\"expr\",\"expr\":{\"id\":\"p1193\"}},\"fill_color\":\"#2ca02c\",\"fill_alpha\":0.2,\"hatch_color\":{\"type\":\"value\",\"value\":\"#2ca02c\"},\"hatch_alpha\":{\"type\":\"value\",\"value\":0.2}}}}},{\"type\":\"object\",\"name\":\"GlyphRenderer\",\"id\":\"p1253\",\"attributes\":{\"name\":\"unknown\",\"data_source\":{\"id\":\"p1154\"},\"view\":{\"type\":\"object\",\"name\":\"CDSView\",\"id\":\"p1254\",\"attributes\":{\"filter\":{\"type\":\"object\",\"name\":\"AllIndices\",\"id\":\"p1255\"}}},\"glyph\":{\"type\":\"object\",\"name\":\"VArea\",\"id\":\"p1250\",\"attributes\":{\"x\":{\"type\":\"field\",\"field\":\"year\"},\"y1\":{\"type\":\"expr\",\"expr\":{\"type\":\"object\",\"name\":\"Stack\",\"id\":\"p1194\",\"attributes\":{\"fields\":[\"uncommon shapes\",\"light\",\"triangle\",\"circle\",\"fireball\"]}}},\"y2\":{\"type\":\"expr\",\"expr\":{\"type\":\"object\",\"name\":\"Stack\",\"id\":\"p1195\",\"attributes\":{\"fields\":[\"uncommon shapes\",\"light\",\"triangle\",\"circle\",\"fireball\",\"unknown\"]}}},\"fill_color\":\"#98df8a\",\"hatch_color\":{\"type\":\"value\",\"value\":\"#98df8a\"}}},\"nonselection_glyph\":{\"type\":\"object\",\"name\":\"VArea\",\"id\":\"p1251\",\"attributes\":{\"x\":{\"type\":\"field\",\"field\":\"year\"},\"y1\":{\"type\":\"expr\",\"expr\":{\"id\":\"p1194\"}},\"y2\":{\"type\":\"expr\",\"expr\":{\"id\":\"p1195\"}},\"fill_color\":\"#98df8a\",\"fill_alpha\":0.1,\"hatch_color\":{\"type\":\"value\",\"value\":\"#98df8a\"},\"hatch_alpha\":{\"type\":\"value\",\"value\":0.1}}},\"muted_glyph\":{\"type\":\"object\",\"name\":\"VArea\",\"id\":\"p1252\",\"attributes\":{\"x\":{\"type\":\"field\",\"field\":\"year\"},\"y1\":{\"type\":\"expr\",\"expr\":{\"id\":\"p1194\"}},\"y2\":{\"type\":\"expr\",\"expr\":{\"id\":\"p1195\"}},\"fill_color\":\"#98df8a\",\"fill_alpha\":0.2,\"hatch_color\":{\"type\":\"value\",\"value\":\"#98df8a\"},\"hatch_alpha\":{\"type\":\"value\",\"value\":0.2}}}}},{\"type\":\"object\",\"name\":\"GlyphRenderer\",\"id\":\"p1263\",\"attributes\":{\"level\":\"overlay\",\"data_source\":{\"type\":\"object\",\"name\":\"ColumnDataSource\",\"id\":\"p1157\",\"attributes\":{\"selected\":{\"type\":\"object\",\"name\":\"Selection\",\"id\":\"p1158\",\"attributes\":{\"indices\":[],\"line_indices\":[]}},\"selection_policy\":{\"type\":\"object\",\"name\":\"UnionRenderers\",\"id\":\"p1159\"},\"data\":{\"type\":\"map\",\"entries\":[[\"year\",[1977,1979,1982,1986,1993,1996,1998,2002,2009,2014]],[\"count\",[207,195,146,154,236,456,1477,2590,3821,2074]],[\"title\",[\"Close Encounters\",\"Alien\",\"E.T.\",\"Aliens\",\"The X-Files (TV)\",\"Independence Day\",\"X-Files: The Movie\",\"Signs\",\"District 9\",\"Edge of Tomorrow\"]]]}}},\"view\":{\"type\":\"object\",\"name\":\"CDSView\",\"id\":\"p1264\",\"attributes\":{\"filter\":{\"type\":\"object\",\"name\":\"AllIndices\",\"id\":\"p1265\"}}},\"glyph\":{\"type\":\"object\",\"name\":\"Scatter\",\"id\":\"p1260\",\"attributes\":{\"x\":{\"type\":\"field\",\"field\":\"year\"},\"y\":{\"type\":\"field\",\"field\":\"count\"},\"size\":{\"type\":\"value\",\"value\":12},\"line_color\":{\"type\":\"value\",\"value\":\"white\"},\"line_width\":{\"type\":\"value\",\"value\":1.3},\"fill_color\":{\"type\":\"value\",\"value\":\"#ffd700\"}}},\"nonselection_glyph\":{\"type\":\"object\",\"name\":\"Scatter\",\"id\":\"p1261\",\"attributes\":{\"x\":{\"type\":\"field\",\"field\":\"year\"},\"y\":{\"type\":\"field\",\"field\":\"count\"},\"size\":{\"type\":\"value\",\"value\":12},\"line_color\":{\"type\":\"value\",\"value\":\"white\"},\"line_alpha\":{\"type\":\"value\",\"value\":0.1},\"line_width\":{\"type\":\"value\",\"value\":1.3},\"fill_color\":{\"type\":\"value\",\"value\":\"#ffd700\"},\"fill_alpha\":{\"type\":\"value\",\"value\":0.1},\"hatch_alpha\":{\"type\":\"value\",\"value\":0.1}}},\"muted_glyph\":{\"type\":\"object\",\"name\":\"Scatter\",\"id\":\"p1262\",\"attributes\":{\"x\":{\"type\":\"field\",\"field\":\"year\"},\"y\":{\"type\":\"field\",\"field\":\"count\"},\"size\":{\"type\":\"value\",\"value\":12},\"line_color\":{\"type\":\"value\",\"value\":\"white\"},\"line_alpha\":{\"type\":\"value\",\"value\":0.2},\"line_width\":{\"type\":\"value\",\"value\":1.3},\"fill_color\":{\"type\":\"value\",\"value\":\"#ffd700\"},\"fill_alpha\":{\"type\":\"value\",\"value\":0.2},\"hatch_alpha\":{\"type\":\"value\",\"value\":0.2}}}}}],\"toolbar\":{\"type\":\"object\",\"name\":\"Toolbar\",\"id\":\"p1169\",\"attributes\":{\"tools\":[{\"type\":\"object\",\"name\":\"HoverTool\",\"id\":\"p1267\",\"attributes\":{\"renderers\":[{\"id\":\"p1263\"}],\"tooltips\":[[\"Movie\",\"@title\"],[\"Year\",\"@year\"],[\"Sightings\",\"@count\"]],\"point_policy\":\"follow_mouse\"}}]}},\"toolbar_location\":null,\"left\":[{\"type\":\"object\",\"name\":\"LinearAxis\",\"id\":\"p1179\",\"attributes\":{\"ticker\":{\"type\":\"object\",\"name\":\"BasicTicker\",\"id\":\"p1180\",\"attributes\":{\"mantissas\":[1,2,5]}},\"formatter\":{\"type\":\"object\",\"name\":\"BasicTickFormatter\",\"id\":\"p1181\"},\"axis_label\":\"Sightings\",\"major_label_policy\":{\"type\":\"object\",\"name\":\"AllLabels\",\"id\":\"p1182\"},\"major_label_text_color\":\"#cccccc\",\"axis_line_color\":\"#333333\"}}],\"below\":[{\"type\":\"object\",\"name\":\"LinearAxis\",\"id\":\"p1174\",\"attributes\":{\"ticker\":{\"type\":\"object\",\"name\":\"BasicTicker\",\"id\":\"p1175\",\"attributes\":{\"mantissas\":[1,2,5]}},\"formatter\":{\"type\":\"object\",\"name\":\"BasicTickFormatter\",\"id\":\"p1176\"},\"axis_label\":\"Year\",\"major_label_policy\":{\"type\":\"object\",\"name\":\"AllLabels\",\"id\":\"p1177\"},\"major_label_text_color\":\"#cccccc\",\"axis_line_color\":\"#333333\"}}],\"center\":[{\"type\":\"object\",\"name\":\"Grid\",\"id\":\"p1178\",\"attributes\":{\"axis\":{\"id\":\"p1174\"},\"grid_line_color\":null}},{\"type\":\"object\",\"name\":\"Grid\",\"id\":\"p1183\",\"attributes\":{\"dimension\":1,\"axis\":{\"id\":\"p1179\"},\"grid_line_color\":\"#222244\"}},{\"type\":\"object\",\"name\":\"Legend\",\"id\":\"p1205\",\"attributes\":{\"location\":\"top_left\",\"background_fill_alpha\":0,\"label_text_color\":\"#ffffff\",\"label_text_font_size\":\"9pt\",\"items\":[{\"type\":\"object\",\"name\":\"LegendItem\",\"id\":\"p1256\",\"attributes\":{\"label\":{\"type\":\"value\",\"value\":\"\\u2753 unknown\"},\"renderers\":[{\"id\":\"p1253\"}]}},{\"type\":\"object\",\"name\":\"LegendItem\",\"id\":\"p1246\",\"attributes\":{\"label\":{\"type\":\"value\",\"value\":\"\\ud83d\\udd25 fireball\"},\"renderers\":[{\"id\":\"p1243\"}]}},{\"type\":\"object\",\"name\":\"LegendItem\",\"id\":\"p1236\",\"attributes\":{\"label\":{\"type\":\"value\",\"value\":\"\\u2b55 circle\"},\"renderers\":[{\"id\":\"p1233\"}]}},{\"type\":\"object\",\"name\":\"LegendItem\",\"id\":\"p1226\",\"attributes\":{\"label\":{\"type\":\"value\",\"value\":\"\\ud83d\\udd3a triangle\"},\"renderers\":[{\"id\":\"p1223\"}]}},{\"type\":\"object\",\"name\":\"LegendItem\",\"id\":\"p1216\",\"attributes\":{\"label\":{\"type\":\"value\",\"value\":\"\\ud83d\\udca1 light\"},\"renderers\":[{\"id\":\"p1213\"}]}},{\"type\":\"object\",\"name\":\"LegendItem\",\"id\":\"p1206\",\"attributes\":{\"label\":{\"type\":\"value\",\"value\":\"\\ud83d\\udef8 uncommon shapes\"},\"renderers\":[{\"id\":\"p1202\"}]}},{\"type\":\"object\",\"name\":\"LegendItem\",\"id\":\"p1266\",\"attributes\":{\"label\":{\"type\":\"value\",\"value\":\"Media Event\"},\"renderers\":[{\"id\":\"p1263\"}]}}]}},{\"type\":\"object\",\"name\":\"LabelSet\",\"id\":\"p1271\",\"attributes\":{\"source\":{\"type\":\"object\",\"name\":\"ColumnDataSource\",\"id\":\"p1268\",\"attributes\":{\"selected\":{\"type\":\"object\",\"name\":\"Selection\",\"id\":\"p1269\",\"attributes\":{\"indices\":[],\"line_indices\":[]}},\"selection_policy\":{\"type\":\"object\",\"name\":\"UnionRenderers\",\"id\":\"p1270\"},\"data\":{\"type\":\"map\",\"entries\":[[\"x\",[2012,2012,2012,2013,2012,2012]],[\"y\",[1230.5,3163.0,4139.5,4637.0,5695.5,6388.5]],[\"emoji\",[\"\\ud83d\\udef8\",\"\\ud83d\\udca1\",\"\\ud83d\\udd3a\",\"\\u2b55\",\"\\ud83d\\udd25\",\"\\u2753\"]],[\"size\",[\"12pt\",\"9pt\",\"7pt\",\"8pt\",\"8pt\",\"7pt\"]]]}}},\"x\":{\"type\":\"field\",\"field\":\"x\"},\"y\":{\"type\":\"field\",\"field\":\"y\"},\"text\":{\"type\":\"field\",\"field\":\"emoji\"},\"text_font_size\":{\"type\":\"field\",\"field\":\"size\"},\"text_align\":{\"type\":\"value\",\"value\":\"center\"},\"text_baseline\":{\"type\":\"value\",\"value\":\"middle\"}}}],\"background_fill_color\":\"#0f0f1f\"}}]}};\n  const render_items = [{\"docid\":\"96cb0241-ee74-456e-89a3-f3a9b3085b6f\",\"roots\":{\"p1160\":\"e3f3dccb-881d-4d51-8e70-9984ed617eb8\"},\"root_ids\":[\"p1160\"]}];\n  void root.Bokeh.embed.embed_items_notebook(docs_json, render_items);\n  }\n  if (root.Bokeh !== undefined) {\n    embed_document(root);\n  } else {\n    let attempts = 0;\n    const timer = setInterval(function(root) {\n      if (root.Bokeh !== undefined) {\n        clearInterval(timer);\n        embed_document(root);\n      } else {\n        attempts++;\n        if (attempts > 100) {\n          clearInterval(timer);\n          console.log(\"Bokeh: ERROR: Unable to run BokehJS code because BokehJS library is missing\");\n        }\n      }\n    }, 10, root)\n  }\n})(window);",
      "application/vnd.bokehjs_exec.v0+json": ""
     },
     "metadata": {
      "application/vnd.bokehjs_exec.v0+json": {
       "id": "p1160"
      }
     },
     "output_type": "display_data"
    }
   ],
   "source": [
    "import pandas as pd\n",
    "from bokeh.plotting import figure, show\n",
    "from bokeh.io import output_notebook         # ← add this\n",
    "from bokeh.models import ColumnDataSource, HoverTool, LabelSet\n",
    "from bokeh.palettes import Category20\n",
    "\n",
    "# Tell Bokeh to render inline in the notebook\n",
    "output_notebook()                             # ← and this\n",
    "\n",
    "# === Load and preprocess data ===\n",
    "data = pd.read_csv(\"data/complete.csv\", on_bad_lines='skip')\n",
    "data[\"datetime\"] = pd.to_datetime(data[\"datetime\"], errors=\"coerce\")\n",
    "df = data[data[\"country\"] == \"us\"].dropna(subset=[\"datetime\", \"shape\"])\n",
    "df[\"year\"] = df[\"datetime\"].dt.year\n",
    "\n",
    "# === Compute total sightings per year (all shapes) ===\n",
    "totals = df.groupby(\"year\").size()\n",
    "totals = totals[totals.index >= 1960]\n",
    "\n",
    "# === Full shape distribution (pivot) ===\n",
    "shape_counts_all = df.groupby([\"year\", \"shape\"]).size().unstack(fill_value=0)\n",
    "\n",
    "# === Select top 5 shapes, group rest as 'uncommon shapes' ===\n",
    "shape_totals = shape_counts_all.sum().sort_values(ascending=False)\n",
    "top_shapes = shape_totals.head(5).index\n",
    "other_shapes = shape_totals.index.difference(top_shapes)\n",
    "\n",
    "# Create new DataFrame for top 5 + 'uncommon shapes'\n",
    "shape_counts = shape_counts_all[top_shapes].copy()\n",
    "shape_counts[\"uncommon shapes\"] = shape_counts_all[other_shapes].sum(axis=1)\n",
    "shape_counts = shape_counts[shape_counts.index >= 1960]\n",
    "\n",
    "# === Stack plot source ===\n",
    "final_shapes = [\"uncommon shapes\"] + list(top_shapes)\n",
    "source_data = {\"year\": shape_counts.index.tolist()}\n",
    "colors = Category20[20][:len(final_shapes)]\n",
    "for s in final_shapes:\n",
    "    source_data[s] = shape_counts[s].values\n",
    "source = ColumnDataSource(source_data)\n",
    "\n",
    "# === Emoji map ===\n",
    "emoji_map = {\n",
    "    \"light\": \"💡\", \"triangle\": \"🔺\", \"circle\": \"⭕\",\n",
    "    \"fireball\": \"🔥\", \"unknown\": \"❓\", \"uncommon shapes\": \"🛸\"\n",
    "}\n",
    "\n",
    "# === Media events ===\n",
    "media = {\n",
    "    1951: \"The Day the Earth Stood Still\",\n",
    "    1977: \"Close Encounters\", 1979: \"Alien\", 1982: \"E.T.\",\n",
    "    1986: \"Aliens\", 1993: \"The X-Files (TV)\", 1996: \"Independence Day\",\n",
    "    1998: \"X-Files: The Movie\", 2002: \"Signs\",\n",
    "    2009: \"District 9\", 2014: \"Edge of Tomorrow\"\n",
    "}\n",
    "media_years = [y for y in media if y in totals.index]\n",
    "media_source = ColumnDataSource(data=dict(\n",
    "    year=media_years,\n",
    "    count=[totals[y] for y in media_years],\n",
    "    title=[media[y] for y in media_years]\n",
    "))\n",
    "\n",
    "# === Bokeh figure ===\n",
    "xmin, xmax = shape_counts.index.min(), shape_counts.index.max()\n",
    "p = figure(\n",
    "    width=1000, height=500,\n",
    "    x_range=(1960, xmax + 3),\n",
    "    y_range=(0, shape_counts.sum(axis=1).max() * 1.15),\n",
    "    background_fill_color=\"#0f0f1f\",\n",
    "    title=\"U.S. UFO Shape Distribution Over Time (All Shapes)\",\n",
    "    tools=\"\", toolbar_location=None\n",
    ")\n",
    "\n",
    "# === Area stack ===\n",
    "p.varea_stack(\n",
    "    stackers=final_shapes,\n",
    "    x=\"year\",\n",
    "    color=colors,\n",
    "    legend_label=[f\"{emoji_map.get(s, '🛸')} {s}\" for s in final_shapes],\n",
    "    source=source\n",
    ")\n",
    "p.legend.items = list(reversed(p.legend.items))\n",
    "\n",
    "# === Media dots ===\n",
    "media_renderer = p.circle(\n",
    "    'year', 'count',\n",
    "    source=media_source,\n",
    "    size=12,\n",
    "    fill_color=\"#ffd700\",\n",
    "    line_color=\"white\",\n",
    "    line_width=1.3,\n",
    "    legend_label=\"Media Event\",\n",
    "    level=\"overlay\"\n",
    ")\n",
    "p.add_tools(HoverTool(\n",
    "    renderers=[media_renderer],\n",
    "    tooltips=[(\"Movie\", \"@title\"), (\"Year\", \"@year\"), (\"Sightings\", \"@count\")],\n",
    "    mode=\"mouse\", point_policy=\"follow_mouse\"\n",
    "))\n",
    "\n",
    "# === Emojis ===\n",
    "recent = shape_counts.tail(25)\n",
    "max_h = recent.sum(axis=1).max()\n",
    "x_pts, y_pts, emojis, sizes = [], [], [], []\n",
    "for i, s in enumerate(final_shapes):\n",
    "    yr = recent[s].idxmax()\n",
    "    below = recent[final_shapes[:i]].loc[yr].sum()\n",
    "    band = recent[s].loc[yr]\n",
    "    x_pts.append(yr)\n",
    "    y_pts.append(below + band / 2)\n",
    "    emojis.append(emoji_map.get(s, \"🛸\"))\n",
    "    sizes.append(f\"{10 + band / max_h * 16 - 4:.0f}pt\")\n",
    "\n",
    "emoji_source = ColumnDataSource(dict(x=x_pts, y=y_pts, emoji=emojis, size=sizes))\n",
    "p.add_layout(LabelSet(\n",
    "    x='x', y='y', text='emoji', source=emoji_source,\n",
    "    text_font_size='size', text_align=\"center\", text_baseline=\"middle\"\n",
    "))\n",
    "\n",
    "# === Style ===\n",
    "p.xaxis.axis_label = \"Year\"\n",
    "p.yaxis.axis_label = \"Sightings\"\n",
    "p.xaxis.major_label_text_color = \"#cccccc\"\n",
    "p.yaxis.major_label_text_color = \"#cccccc\"\n",
    "p.xaxis.axis_line_color = \"#333333\"\n",
    "p.yaxis.axis_line_color = \"#333333\"\n",
    "p.xgrid.grid_line_color = None\n",
    "p.ygrid.grid_line_color = \"#222244\"\n",
    "p.title.text_color = \"#eeeeee\"\n",
    "p.title.text_font_size = \"16pt\"\n",
    "p.legend.label_text_color = \"#ffffff\"\n",
    "p.legend.background_fill_alpha = 0\n",
    "p.legend.location = \"top_left\"\n",
    "p.legend.label_text_font_size = \"9pt\"\n",
    "\n",
    "# This will now display inline in your notebook\n",
    "show(p)\n"
   ]
  },
  {
   "cell_type": "code",
   "execution_count": null,
   "id": "b5a73694",
   "metadata": {},
   "outputs": [],
   "source": []
  }
 ],
 "metadata": {
  "kernelspec": {
   "display_name": "Python 3",
   "language": "python",
   "name": "python3"
  },
  "language_info": {
   "codemirror_mode": {
    "name": "ipython",
    "version": 3
   },
   "file_extension": ".py",
   "mimetype": "text/x-python",
   "name": "python",
   "nbconvert_exporter": "python",
   "pygments_lexer": "ipython3",
   "version": "3.11.9"
  }
 },
 "nbformat": 4,
 "nbformat_minor": 5
}
